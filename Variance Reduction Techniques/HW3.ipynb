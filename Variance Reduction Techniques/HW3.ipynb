{
 "cells": [
  {
   "cell_type": "markdown",
   "id": "stock-audit",
   "metadata": {},
   "source": [
    "# 9\n",
    "用不同方法估计 $\\theta = \\int_{0}^{1}4x^3 dx$，先直接计算出$\\theta=1$以比较下面几种方法：   \n",
    "在[0,1]上生成均匀随机数$x_i, \\ \\forall i=1,2,...,n$，令$n=1000$，以下几种方法使用同样的随机数 "
   ]
  },
  {
   "cell_type": "markdown",
   "id": "naval-connecticut",
   "metadata": {},
   "source": [
    "## 1. MC\n",
    "在[0,1]上生成均匀随机数$x_i, \\ \\forall i=1,2,...,n$   \n",
    "$\\hat{\\theta_{MC}} = \\frac{1}{n}\\sum_{i=1}^n 4x_i^3$"
   ]
  },
  {
   "cell_type": "code",
   "execution_count": 1,
   "id": "soviet-access",
   "metadata": {},
   "outputs": [],
   "source": [
    "import numpy as np\n",
    "from IPython.display import display, Math, Latex"
   ]
  },
  {
   "cell_type": "code",
   "execution_count": 2,
   "id": "olive-modification",
   "metadata": {},
   "outputs": [],
   "source": [
    "x = np.random.uniform(0,1,1000)"
   ]
  },
  {
   "cell_type": "code",
   "execution_count": 3,
   "id": "postal-africa",
   "metadata": {
    "scrolled": true
   },
   "outputs": [
    {
     "data": {
      "text/latex": [
       "$\\displaystyle \\hat{\\theta_{MC}}=$"
      ],
      "text/plain": [
       "<IPython.core.display.Math object>"
      ]
     },
     "metadata": {},
     "output_type": "display_data"
    },
    {
     "data": {
      "text/plain": [
       "0.9873149760335518"
      ]
     },
     "metadata": {},
     "output_type": "display_data"
    }
   ],
   "source": [
    "txt = (Math(r'\\hat{\\theta_{MC}}='))\n",
    "display(txt,np.mean(4*x**3))"
   ]
  },
  {
   "cell_type": "markdown",
   "id": "normal-drunk",
   "metadata": {},
   "source": [
    "-------\n",
    "## 2. AV\n",
    "在[0,1]上生成均匀随机数$x_i, \\ \\forall i=1,2,...,n$   \n",
    "$\\hat{\\theta_{AV}} = \\frac{1}{n}\\sum_{i=1}^n \\frac{4x_i^3+4(1-x_i)^3}{2}$，令$n=1000$"
   ]
  },
  {
   "cell_type": "code",
   "execution_count": 4,
   "id": "fresh-carroll",
   "metadata": {
    "scrolled": true
   },
   "outputs": [
    {
     "data": {
      "text/latex": [
       "$\\displaystyle \\hat{\\theta_{AV}}=$"
      ],
      "text/plain": [
       "<IPython.core.display.Math object>"
      ]
     },
     "metadata": {},
     "output_type": "display_data"
    },
    {
     "data": {
      "text/plain": [
       "0.9865257974290198"
      ]
     },
     "metadata": {},
     "output_type": "display_data"
    }
   ],
   "source": [
    "txt = (Math(r'\\hat{\\theta_{AV}}='))\n",
    "display(txt,np.mean((4*x**3+4*(1-x)**3)/2))"
   ]
  },
  {
   "cell_type": "markdown",
   "id": "excess-insulation",
   "metadata": {},
   "source": [
    "-------\n",
    "## 3. CV\n",
    "在[0,1]上生成均匀随机数$x_i, \\ \\forall i=1,2,...,n$   \n",
    "$\\hat{\\theta_{CV}} = \\frac{1}{n}\\sum_{i=1}^n f(x_i)-b^*(g(x_i)-I(g(x_i)),\\ \\forall f(x_i)=4x_i^3$   \n",
    "   \n",
    "      \n",
    "因为$f(x) \\approx g(x)$，所以令$g(x)=e^x-1 \\ \\Rightarrow I(g(x))=e^1-2$   \n",
    "   \n",
    "      \n",
    "$b^* = \\frac{\\sum_{i=1}^n (f(x_i)- \\bar{f(x)})(g(x_i)- \\bar{g(x)})}{\\sum_{i=1}^n (g(x_i)- \\bar{g(x)})^2}$"
   ]
  },
  {
   "cell_type": "code",
   "execution_count": 5,
   "id": "radio-private",
   "metadata": {
    "scrolled": true
   },
   "outputs": [],
   "source": [
    "I = np.exp(1)-2\n",
    "g = np.exp(x)-1\n",
    "b = sum((4*x**3-np.mean(4*x**3))*(g-np.mean(g))) / sum((g-np.mean(g))**2)"
   ]
  },
  {
   "cell_type": "code",
   "execution_count": 6,
   "id": "polar-updating",
   "metadata": {
    "scrolled": true
   },
   "outputs": [
    {
     "data": {
      "text/latex": [
       "$\\displaystyle \\hat{\\theta_{CV}}=$"
      ],
      "text/plain": [
       "<IPython.core.display.Math object>"
      ]
     },
     "metadata": {},
     "output_type": "display_data"
    },
    {
     "data": {
      "text/plain": [
       "0.9941301787463542"
      ]
     },
     "metadata": {},
     "output_type": "display_data"
    }
   ],
   "source": [
    "txt = (Math(r'\\hat{\\theta_{CV}}='))\n",
    "display(txt,np.mean(4*x**3-b*(g-I)))"
   ]
  },
  {
   "cell_type": "markdown",
   "id": "earlier-wages",
   "metadata": {},
   "source": [
    "-------\n",
    "## 4. stratification\n",
    "在[0,1]上生成均匀随机数$x_i, \\ \\forall i=1,2,...,n$   \n",
    "$\\hat{\\theta_{CV}} = \\frac{1}{M}\\sum_{j=1}^M \\bar{Y_j},\\ \\forall \\bar{Y_j}=\\frac{1}{L}\\sum_{i=1}^Lf(x_{ij}), \\ f(x_{ij})=4x_{ij}^3$    \n",
    "   \n",
    "      \n",
    "令层级$M=5$，每层内的样本数$L=200$"
   ]
  },
  {
   "cell_type": "code",
   "execution_count": 8,
   "id": "maritime-engagement",
   "metadata": {},
   "outputs": [
    {
     "data": {
      "text/latex": [
       "$\\displaystyle \\hat{\\theta_{SS}}=$"
      ],
      "text/plain": [
       "<IPython.core.display.Math object>"
      ]
     },
     "metadata": {},
     "output_type": "display_data"
    },
    {
     "data": {
      "text/plain": [
       "0.9873149760335517"
      ]
     },
     "metadata": {},
     "output_type": "display_data"
    }
   ],
   "source": [
    "xs = x\n",
    "xs = np.reshape(xs, (5,200))\n",
    "l = []\n",
    "for i in range(5):\n",
    "    l.append(np.mean(4*xs[i]**3))\n",
    "txt = (Math(r'\\hat{\\theta_{SS}}='))\n",
    "display(txt,np.mean(l))"
   ]
  },
  {
   "cell_type": "markdown",
   "id": "legitimate-scott",
   "metadata": {},
   "source": [
    "-------\n",
    "## 5. Improvement\n",
    "在[0,1]上生成均匀随机数$x_i, \\ \\forall i=1,2,...,n$   \n",
    "综合上述AV、CV、SS方法来估计$\\hat{\\theta}$，但结果和CV差不多。   \n",
    "   \n",
    "   \n",
    "融合方法：   \n",
    "将CV用SS来分层，并且其使用的$f(x)$以AV来替换"
   ]
  },
  {
   "cell_type": "code",
   "execution_count": 9,
   "id": "liked-theater",
   "metadata": {},
   "outputs": [
    {
     "data": {
      "text/latex": [
       "$\\displaystyle \\hat{\\theta}=$"
      ],
      "text/plain": [
       "<IPython.core.display.Math object>"
      ]
     },
     "metadata": {},
     "output_type": "display_data"
    },
    {
     "data": {
      "text/plain": [
       "0.9933410001418223"
      ]
     },
     "metadata": {},
     "output_type": "display_data"
    }
   ],
   "source": [
    "I = np.exp(1)-2 #CV\n",
    "g = np.exp(x)-1\n",
    "b = sum((4*x**3-np.mean(4*x**3))*(g-np.mean(g))) / sum((g-np.mean(g))**2)\n",
    "\n",
    "xs = np.reshape(xs, (5,200)) #SS\n",
    "xr = (4*xs**3+4*(1-xs)**3)/2 #AV\n",
    "gs = np.reshape(g, (5,200)) \n",
    "\n",
    "l = []\n",
    "k = []\n",
    "for i in range(5):\n",
    "    l.append(xr[i]-b*(gs[i]-I))\n",
    "    \n",
    "for j in range(5):\n",
    "    k.append(np.mean(l[j]))\n",
    "\n",
    "txt = (Math(r'\\hat{\\theta}='))\n",
    "display(txt,np.mean(k))"
   ]
  }
 ],
 "metadata": {
  "kernelspec": {
   "display_name": "Python 3",
   "language": "python",
   "name": "python3"
  },
  "language_info": {
   "codemirror_mode": {
    "name": "ipython",
    "version": 3
   },
   "file_extension": ".py",
   "mimetype": "text/x-python",
   "name": "python",
   "nbconvert_exporter": "python",
   "pygments_lexer": "ipython3",
   "version": "3.8.3"
  }
 },
 "nbformat": 4,
 "nbformat_minor": 5
}
