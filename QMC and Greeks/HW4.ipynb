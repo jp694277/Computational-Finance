{
 "cells": [
  {
   "cell_type": "markdown",
   "id": "rational-restriction",
   "metadata": {},
   "source": [
    "# 4\n",
    "## Write programs to generate Halton, Sobol, or Faure sequences in dimensions up to 50\n",
    "\n",
    "在创建sequence前需要先创建b-ary函数，因为下列各个sequences的创建都会使用到以下两个函数 "
   ]
  },
  {
   "cell_type": "code",
   "execution_count": 27,
   "id": "automotive-procurement",
   "metadata": {},
   "outputs": [],
   "source": [
    "def B_ARY(k, b):\n",
    "    a=0\n",
    "    if k > 0:\n",
    "        jmax = np.floor(np.log(k)/np.log(b)) \n",
    "        a = np.repeat(0, jmax+1)\n",
    "        q = b**jmax\n",
    "        for j in range(int(jmax+1)):\n",
    "            a[j] = np.floor(k/q) \n",
    "            k = k-q*a[j]\n",
    "            q = q/b\n",
    "    return(a)"
   ]
  },
  {
   "cell_type": "code",
   "execution_count": 45,
   "id": "absent-coral",
   "metadata": {},
   "outputs": [],
   "source": [
    "def NEXTB_ARY(ain, b):\n",
    "    m = len(ain)\n",
    "    carry = True\n",
    "    aout = np.repeat(0, m)\n",
    "    for i in range(m):\n",
    "        if (carry):\n",
    "            if (ain[m-1-i] == b-1):\n",
    "                aout[m-1-i] = 0\n",
    "            else:\n",
    "                aout[m-1-i] = ain[m-1-i] + 1\n",
    "                carry = False\n",
    "        else:\n",
    "            aout[m-1-i] = ain[m-1-i]\n",
    "    if (carry):\n",
    "        aout = aout.tolist()\n",
    "        aout.insert(0,1)\n",
    "    return (aout)"
   ]
  },
  {
   "cell_type": "markdown",
   "id": "upper-consortium",
   "metadata": {},
   "source": [
    "## 4.1 Halton sequence"
   ]
  },
  {
   "cell_type": "markdown",
   "id": "accredited-blade",
   "metadata": {},
   "source": [
    "首先创建$Van \\ de \\ Corput$函数来产生数据点，以下函数内，$n_0=起始点、npts=点数量、b=基数$"
   ]
  },
  {
   "cell_type": "code",
   "execution_count": 69,
   "id": "grave-induction",
   "metadata": {},
   "outputs": [],
   "source": [
    "def Van_de_Corput(n0, npts, b):\n",
    "    nmax = n0 + npts -1\n",
    "    a = B_ARY(n0-1, b)\n",
    "    x = np.repeat(0, npts)\n",
    "    x = x.tolist()\n",
    "    for i in range(n0,nmax+1):\n",
    "        a = NEXTB_ARY(a, b) \n",
    "        m = len(a) \n",
    "        s=0\n",
    "        q = 1/b\n",
    "        for j in range(m):\n",
    "            s = s + q * a[m-1-j]\n",
    "            q = q/b\n",
    "        x[i-n0] = s\n",
    "    return (x)"
   ]
  },
  {
   "cell_type": "markdown",
   "id": "compressed-greeting",
   "metadata": {},
   "source": [
    "接着就能产生$Halton \\ sequence$，以下函数内，$n_0=起始点、npts=点数量、bvec=基数、d=维度$   \n",
    "下面列出五个维度的$Halton \\ sequence$，可再调整$bvec$和$d$再拓展至50维"
   ]
  },
  {
   "cell_type": "code",
   "execution_count": 89,
   "id": "prostate-mediterranean",
   "metadata": {},
   "outputs": [],
   "source": [
    "def HaltonPts(n0, npts, d, bvec):\n",
    "    P = np.zeros(npts*d).reshape(npts,d)\n",
    "    for i in range(d):\n",
    "        P[:,i] = Van_de_Corput(n0, npts, bvec[i])\n",
    "    return (P)"
   ]
  },
  {
   "cell_type": "code",
   "execution_count": 94,
   "id": "neither-wallet",
   "metadata": {},
   "outputs": [
    {
     "data": {
      "text/plain": [
       "array([[0.25      , 0.66666667, 0.4       , 0.28571429, 0.15384615],\n",
       "       [0.75      , 0.11111111, 0.6       , 0.42857143, 0.23076923],\n",
       "       [0.125     , 0.44444444, 0.8       , 0.57142857, 0.30769231],\n",
       "       [0.625     , 0.77777778, 0.04      , 0.71428571, 0.38461538],\n",
       "       [0.375     , 0.22222222, 0.24      , 0.85714286, 0.46153846],\n",
       "       [0.875     , 0.55555556, 0.44      , 0.02040816, 0.53846154],\n",
       "       [0.0625    , 0.88888889, 0.64      , 0.16326531, 0.61538462],\n",
       "       [0.5625    , 0.03703704, 0.84      , 0.30612245, 0.69230769],\n",
       "       [0.3125    , 0.37037037, 0.08      , 0.44897959, 0.76923077],\n",
       "       [0.8125    , 0.7037037 , 0.28      , 0.59183673, 0.84615385]])"
      ]
     },
     "execution_count": 94,
     "metadata": {},
     "output_type": "execute_result"
    }
   ],
   "source": [
    "HaltonPts(2, 10, 5, [2,3,5,7,13])"
   ]
  },
  {
   "cell_type": "markdown",
   "id": "green-hypothesis",
   "metadata": {},
   "source": [
    "--------\n",
    "## 4.2 Sobol sequence"
   ]
  },
  {
   "cell_type": "markdown",
   "id": "separate-aruba",
   "metadata": {},
   "source": [
    "接着来产生$Sobol \\ Sequence$，下面函数$cvec=多项式的参数向量、minit=初始向量、r=矩阵大小$，以此产生矩阵"
   ]
  },
  {
   "cell_type": "code",
   "execution_count": 33,
   "id": "suspected-consumption",
   "metadata": {},
   "outputs": [],
   "source": [
    "def SobolMat(cvec, minit, r):\n",
    "    q = len(cvec) - 1\n",
    "    if (q == 0):\n",
    "        V = np.identity(r)\n",
    "    if (q > 0):\n",
    "        V = np.zeros(r*r).reshape(r,r)\n",
    "        mvec = np.repeat(0, r-q).tolist()\n",
    "        for i in range(len(minit)):\n",
    "            mvec.insert(0,minit[2-i])\n",
    "        mstate = minit\n",
    "        for i in range(q+1,r+1,1):\n",
    "            mnext = np.repeat(0, r).tolist()\n",
    "            for j in range(q):\n",
    "                t=B_ARY(2**(j+1) * cvec[j + 1] * mstate[q-1-j], 2).tolist()\n",
    "                t1 = np.repeat(0, r -len(t)).tolist()\n",
    "                for k in range(len(t)):\n",
    "                    t1.append(t[k])\n",
    "                t = t1\n",
    "                mnext = np.abs(np.array(mnext) - np.array(t))\n",
    "            mn1 = np.repeat(0, r-len(B_ARY(mstate[0],2))).tolist()\n",
    "            mn2 = B_ARY (mstate[0],2).tolist()\n",
    "            for l in range(len(mn2)):\n",
    "                mn1.append(mn2[l])\n",
    "            mnext = np.abs(mn1)\n",
    "            mnext = sum(mnext*np.array([2**(r-p-1) for p in range(r)]))\n",
    "            mvec[i-1] = mnext\n",
    "            mstate[1:].append(mnext)\n",
    "\n",
    "        mbin=[]    \n",
    "        for i in range(r):\n",
    "            mbin.append(B_ARY(mvec[i], 2))\n",
    "            mbin = [item for sublist in mbin for item in sublist]\n",
    "            k = len(mbin)\n",
    "            for j in range(k):\n",
    "                V[i + 2 -j, i] = mbin[k - 1 - j]\n",
    "    return(V)"
   ]
  },
  {
   "cell_type": "markdown",
   "id": "processed-unemployment",
   "metadata": {},
   "source": [
    "接着用以下函数产生$sequence$，$n0=初始点, npts=点数量, d=维度,pvec=多项式向量,mmat=初始值$   "
   ]
  },
  {
   "cell_type": "code",
   "execution_count": 34,
   "id": "quality-yemen",
   "metadata": {},
   "outputs": [],
   "source": [
    "def GARYCODE(n):\n",
    "    x1 = B_ARY(n, 2)\n",
    "    x2 = B_ARY(np.floor(n/2), 2)\n",
    "    l1 = len(x1)\n",
    "    return(np.abs(np.array(x1)-np.array(np.repeat(0, l1 - len(x2)).tolist().extend(x2))))"
   ]
  },
  {
   "cell_type": "code",
   "execution_count": 41,
   "id": "early-annual",
   "metadata": {},
   "outputs": [],
   "source": [
    "def SobolPts(n0, npts, d, pvec, mmat):\n",
    "    nmax = n0 + npts - 1\n",
    "    rmax = 1 + np.floor(np.log(nmax)/np.log(2))\n",
    "    r=1\n",
    "    P = np.zeros(npts*d).reshape(npts, d)\n",
    "    y = np.zeros(rmax*d).reshape(rmax, d)\n",
    "    if (n0 > 1):\n",
    "        r = 1 + np.log(n0-1)/np.log(2)\n",
    "    qnext = 2**r\n",
    "    a = B_ARY(n0-1, 2)\n",
    "    g = GARYCODE(n0-1) \n",
    "    b_pwrs = (0.5)**(range(rmax))\n",
    "\n",
    "    #用pvec的multinomial创建矩阵\n",
    "    V = np.zeros(rmax*rmax*d).reshape(rmax, rmax, d)\n",
    "    for i in range(d):\n",
    "        q = np.floor(log(pvec[i])/log(2))\n",
    "        cvec = B_ARY(pvec[i], 2)\n",
    "        V[:,:,i] = SobolMat(cvec, mmat[i,1:q], rmax)\n",
    "        \n",
    "        \n",
    "    #用graycode来计算点\n",
    "    for i in range(d):\n",
    "        for m in range(r):\n",
    "            for n in range(r):\n",
    "                y[m,i] = (y[m, i] + V[m, n, i] * g[r+1-n]) % 2\n",
    "\n",
    "    for k in range(n0, nmax, 1):\n",
    "        if (k == qnext):\n",
    "            r=r+1\n",
    "            g = [p for p in range(g)]\n",
    "            l=1\n",
    "            qnext = 2*qnext\n",
    "        else:\n",
    "            l=0\n",
    "            for i in range(len(a)):\n",
    "                if (a[i] == 0):\n",
    "                    l=i\n",
    "            g[l] = 1 - g[l]\n",
    "\n",
    "    a = NEXTB_ARY(a, 2)\n",
    "    \n",
    "    #递回来计算k点\n",
    "    for i in range(d):\n",
    "        for m in range(r):\n",
    "            y[m,i] = (y[m,i] + V[m, r+1-l, i]) % 2 \n",
    "            for j in range(r):\n",
    "                P[k+1-n0, i] = P[k+1-n0, i] + b_pwrs[j] * y[j,i]\n",
    "    return(P)"
   ]
  },
  {
   "cell_type": "markdown",
   "id": "romantic-average",
   "metadata": {},
   "source": [
    "--------\n",
    "## 4.3 Faure sequence"
   ]
  },
  {
   "cell_type": "markdown",
   "id": "occupied-scene",
   "metadata": {},
   "source": [
    "接着产生$ Faure \\ sequence$，以下函数$n0=初始点、npts=点数量、d=维度、b=基数$"
   ]
  },
  {
   "cell_type": "code",
   "execution_count": 42,
   "id": "periodic-fruit",
   "metadata": {},
   "outputs": [],
   "source": [
    "def FaureMat(r, i):\n",
    "    C = np.zeros(r*r).reshape(r, r)\n",
    "    C[0,0] = 1\n",
    "    if (r >= 2):\n",
    "        for m in range(1,r,1):\n",
    "            C[m, m] = 1\n",
    "            C[0, m] = i*C[0, m-1]\n",
    "    \n",
    "    if(r >=3):\n",
    "        for n in range(2,r,1):\n",
    "            for m in range(1,n-1,1):\n",
    "                C[m, n] = C[m-1, n-1] + i * C[m, n-1]\n",
    "                \n",
    "    return(C)"
   ]
  },
  {
   "cell_type": "code",
   "execution_count": 43,
   "id": "annoying-chapel",
   "metadata": {},
   "outputs": [],
   "source": [
    "def FaurePts(n0, npts, d, b):\n",
    "    nmax = n0 + npts -1\n",
    "    rmax = 1 + np.floor(np.log(nmax)/np.log(b)) \n",
    "    rmax = int(rmax)\n",
    "    P = np.zeros(npts*d).reshape(npts, d)\n",
    "    y = np.repeat(0, rmax)\n",
    "    r = 1 + np.floor(np.log(max(1, n0-1))/np.log(b)) \n",
    "    qnext = b**r\n",
    "    a = B_ARY(n0-1, b)\n",
    "    C = np.zeros(rmax*rmax*(d-1)).reshape(rmax, rmax, d-1) \n",
    "    for i in range(d-1):\n",
    "        C[:,:,i] = FaureMat(rmax, i)\n",
    "\n",
    "    b_pwrs = (1/b)**np.array([p for p in range(rmax)])\n",
    "    for k in range(n0,nmax+1,1):\n",
    "        a = NEXTB_ARY(a, b) \n",
    "        if (k == qnext):\n",
    "            r = r+1\n",
    "            qnext = b*qnext\n",
    "        for j in range(int(r)):\n",
    "            P[k-n0, 0] = P[k-n0, 0] + b_pwrs[j] * a[int(r)-j-1]\n",
    "        for i in range(1,d,1):\n",
    "            for m in range(int(r)):\n",
    "                for n in range(int(r)):\n",
    "                    y[m] = y[m] + C[m,n,i-2]*a[int(r)-n-1]\n",
    "            y[m] = y[m] % b\n",
    "            e = b_pwrs*y\n",
    "            P[k-n0, i] = P[k-n0, i] + e[m]\n",
    "            y[m] = 0\n",
    "    return(P)"
   ]
  },
  {
   "cell_type": "markdown",
   "id": "extra-understanding",
   "metadata": {},
   "source": [
    "接着就能产生$Faure \\ sequence$，以下函数内，$n_0=起始点、npts=点数量、bvec=基数、d=维度$   \n",
    "下面列出五个维度的$Faure \\ sequence$，可再调整$bvec$和$d$再拓展至50维"
   ]
  },
  {
   "cell_type": "code",
   "execution_count": 61,
   "id": "innocent-ministry",
   "metadata": {
    "scrolled": true
   },
   "outputs": [
    {
     "data": {
      "text/plain": [
       "array([[2.33333333, 0.33333333, 0.33333333, 0.33333333, 0.33333333],\n",
       "       [0.66666667, 0.66666667, 0.66666667, 0.66666667, 0.66666667],\n",
       "       [1.66666667, 0.66666667, 0.66666667, 0.66666667, 0.66666667],\n",
       "       [2.66666667, 0.66666667, 0.66666667, 0.66666667, 0.66666667],\n",
       "       [0.11111111, 0.11111111, 0.11111111, 0.11111111, 0.11111111],\n",
       "       [1.11111111, 0.11111111, 0.11111111, 0.11111111, 0.11111111],\n",
       "       [2.11111111, 0.11111111, 0.11111111, 0.11111111, 0.11111111],\n",
       "       [0.44444444, 0.11111111, 0.11111111, 0.11111111, 0.11111111],\n",
       "       [1.44444444, 0.11111111, 0.11111111, 0.11111111, 0.11111111],\n",
       "       [2.44444444, 0.11111111, 0.11111111, 0.11111111, 0.11111111]])"
      ]
     },
     "execution_count": 61,
     "metadata": {},
     "output_type": "execute_result"
    }
   ],
   "source": [
    "FaurePts(5, 10, 5, 3)"
   ]
  },
  {
   "cell_type": "markdown",
   "id": "identical-cheat",
   "metadata": {},
   "source": [
    "-----\n",
    "# 5\n",
    "## Empirically compare the L2 discrepancies of Halton, Sobol, or Faure sequences, and compare with the expected L2 discrepancy\n",
    "\n",
    "Faure表现最好而Halton与Sobol差不多"
   ]
  },
  {
   "cell_type": "code",
   "execution_count": 1,
   "id": "adjacent-masters",
   "metadata": {},
   "outputs": [],
   "source": [
    "import tensorflow as tf\n",
    "import tensorflow_probability as tfp\n",
    "import numpy as np\n",
    "import openturns as ot"
   ]
  },
  {
   "cell_type": "code",
   "execution_count": 74,
   "id": "visible-filling",
   "metadata": {},
   "outputs": [],
   "source": [
    "#create L2 discrepency\n",
    "def square_dis(d,npts):\n",
    "    x = np.random.uniform(0,1,d)\n",
    "    y = np.random.uniform(0,1,d)\n",
    "    volumn = np.prod(abs(x-y))\n",
    "    s=0\n",
    "    for i in range(npts):\n",
    "        s = s + np.prod(i*(sample[i,:]<max(np.concatenate((x, y)))) & (sample[i,:]>=min(np.concatenate((x, y)))))\n",
    "    \n",
    "    sresult = ((s/npts - volumn)**2)\n",
    "    return sresult\n",
    "\n",
    "def L2_discrepency(P):\n",
    "    M = 1000\n",
    "    npts = P.shape[0]\n",
    "    d = P.shape[1]\n",
    "    square_dis(d,npts)\n",
    "    simu = []\n",
    "    for i in range(M):\n",
    "        simu.append(square_dis(d,npts))\n",
    "    return(np.sqrt(np.mean(simu)))"
   ]
  },
  {
   "cell_type": "code",
   "execution_count": 120,
   "id": "exclusive-spokesman",
   "metadata": {},
   "outputs": [],
   "source": [
    "# determine dim\n",
    "num_results = 1024\n",
    "dim = 5\n",
    "\n",
    "#Halton\n",
    "Halton = tfp.mcmc.sample_halton_sequence(\n",
    "  dim,\n",
    "  num_results=num_results,\n",
    "  seed=127)\n",
    "Halton = Halton.numpy()\n",
    "\n",
    "#Sobol\n",
    "Sobol = tf.math.sobol_sample(\n",
    "    dim, num_results, skip=0, dtype=tf.dtypes.float32, name=None\n",
    ")\n",
    "Sobol = Sobol.numpy()\n",
    "\n",
    "#Faure\n",
    "sequence = ot.FaureSequence(5)\n",
    "Faure = np.array(sequence.generate(5))"
   ]
  },
  {
   "cell_type": "code",
   "execution_count": 121,
   "id": "cathedral-intermediate",
   "metadata": {
    "scrolled": true
   },
   "outputs": [
    {
     "name": "stdout",
     "output_type": "stream",
     "text": [
      "Halton 0.23691619328228194\n",
      "Sobol 0.2378269889141603\n",
      "Faure 0.16893876452031778\n"
     ]
    }
   ],
   "source": [
    "print('Halton\\'s L2 discrepency',L2_discrepency(Halton))\n",
    "print('Sobol\\'s L2 discrepency',L2_discrepency(Sobol))\n",
    "print('Faure\\'s L2 discrepency',L2_discrepency(Faure))"
   ]
  },
  {
   "cell_type": "markdown",
   "id": "phantom-candy",
   "metadata": {},
   "source": [
    "------\n",
    "# 6\n",
    "## Compare the efficiency of Halton, Sobol, or Faure sequences for high-dimensional financial problems (say, option pricing) and compare their efficiency with MC"
   ]
  },
  {
   "cell_type": "markdown",
   "id": "eligible-tenant",
   "metadata": {},
   "source": [
    "以下面条件来设定option price:"
   ]
  },
  {
   "cell_type": "code",
   "execution_count": 244,
   "id": "economic-great",
   "metadata": {},
   "outputs": [],
   "source": [
    "r = 0.05\n",
    "S0 = 50\n",
    "sigma = 0.3\n",
    "total_T = 1\n",
    "d = 50\n",
    "dt = total_T/d\n",
    "t = [i/100 for i in range(d+1)][1:]\n",
    "#t = t[-1]\n",
    "w = np.repeat(1/d, d)\n",
    "K = 50"
   ]
  },
  {
   "cell_type": "markdown",
   "id": "destroyed-backup",
   "metadata": {},
   "source": [
    "接着分别创建Halton、Sobol、Faure的option函数"
   ]
  },
  {
   "cell_type": "code",
   "execution_count": 182,
   "id": "extreme-watts",
   "metadata": {},
   "outputs": [],
   "source": [
    "from scipy.stats import norm\n",
    "import statistics"
   ]
  },
  {
   "cell_type": "code",
   "execution_count": 145,
   "id": "academic-facing",
   "metadata": {},
   "outputs": [],
   "source": [
    "def Halton_option(N):\n",
    "    G = np.repeat(0, N)\n",
    "    for k in range(N):\n",
    "        Halton = tfp.mcmc.sample_halton_sequence(d,num_results=N,seed=127)\n",
    "        Halton = Halton.numpy()\n",
    "        Z = norm.ppf(Halton)\n",
    "        W = Z.sum(axis=0) * np.sqrt(dt)\n",
    "        X = (r - 0.5 *sigma**2) * np.array(t) + sigma * W \n",
    "        S = S0 * np.exp(X)\n",
    "        G[k] = np.exp((-r)*total_T) * (np.prod(S**(1/d)) - K)\n",
    "    return (G)"
   ]
  },
  {
   "cell_type": "code",
   "execution_count": 200,
   "id": "double-stage",
   "metadata": {},
   "outputs": [],
   "source": [
    "def Sobol_option(N):\n",
    "    G = np.repeat(0, N)\n",
    "    for k in range(N):\n",
    "        Sobol = tf.math.sobol_sample(d, N, skip=0, dtype=tf.dtypes.float32, name=None)\n",
    "        Sobol = Sobol.numpy()\n",
    "        Z = norm.ppf(Sobol)\n",
    "        W = Z.sum(axis=0) * np.sqrt(dt)\n",
    "        X = (r - 0.5 *sigma**2) * np.array(t) + sigma * W \n",
    "        S = S0 * np.exp(X)\n",
    "        G[k] = np.exp((-r)*total_T) * (np.prod(S**(1/d)) - K)\n",
    "    return (G)"
   ]
  },
  {
   "cell_type": "code",
   "execution_count": 263,
   "id": "wrapped-relationship",
   "metadata": {
    "scrolled": true
   },
   "outputs": [],
   "source": [
    "def Faure_option(N):\n",
    "    G = np.repeat(0, N)\n",
    "    for k in range(N):\n",
    "        sequence = ot.FaureSequence(d)\n",
    "        Faure = np.array(sequence.generate(N))\n",
    "        Z = norm.ppf(Faure)\n",
    "        W = Z.sum(axis=0) * np.sqrt(dt)\n",
    "        X = (r - 0.5 *sigma**2) * np.array(t) + sigma * W \n",
    "        S = S0 * np.exp(X)\n",
    "        G[k] = np.exp((-r)*total_T) * (np.prod(S**(1/d)) - K)\n",
    "    return (G)"
   ]
  },
  {
   "cell_type": "markdown",
   "id": "discrete-excerpt",
   "metadata": {},
   "source": [
    "以及一个最原始的MC option function"
   ]
  },
  {
   "cell_type": "code",
   "execution_count": 253,
   "id": "referenced-isolation",
   "metadata": {},
   "outputs": [],
   "source": [
    "def MC_option(N):\n",
    "    G = np.repeat(0, N)\n",
    "    for k in range(N):\n",
    "        Z = np.random.normal(0,1,d)\n",
    "        W = Z * np.sqrt(dt)\n",
    "        X = (r - 0.5 *sigma**2) * np.array(t) + sigma * W \n",
    "        S = S0 * np.exp(X)\n",
    "        G[k] = np.exp((-r)*total_T) * (np.prod(S**(1/d)) - K)\n",
    "    return (G)"
   ]
  },
  {
   "cell_type": "markdown",
   "id": "empirical-collectible",
   "metadata": {},
   "source": [
    "分别求variance来做比较，在高维度中其实变异都不是非常大"
   ]
  },
  {
   "cell_type": "code",
   "execution_count": 195,
   "id": "important-invite",
   "metadata": {
    "scrolled": true
   },
   "outputs": [],
   "source": [
    "H = Halton_option(500)"
   ]
  },
  {
   "cell_type": "code",
   "execution_count": 202,
   "id": "bored-intention",
   "metadata": {
    "scrolled": false
   },
   "outputs": [],
   "source": [
    "S = Sobol_option(500)"
   ]
  },
  {
   "cell_type": "code",
   "execution_count": 264,
   "id": "confirmed-klein",
   "metadata": {
    "scrolled": false
   },
   "outputs": [],
   "source": [
    "F = Faure_option(500)"
   ]
  },
  {
   "cell_type": "code",
   "execution_count": 254,
   "id": "smoking-copper",
   "metadata": {},
   "outputs": [],
   "source": [
    "M = MC_option(500)"
   ]
  },
  {
   "cell_type": "code",
   "execution_count": 256,
   "id": "experimental-patch",
   "metadata": {},
   "outputs": [
    {
     "name": "stdout",
     "output_type": "stream",
     "text": [
      "Halton_option 1\n",
      "Sobol_option 0\n",
      "Faure_option 0\n",
      "MC_option 0\n"
     ]
    }
   ],
   "source": [
    "print('Halton_option',statistics.variance(H))\n",
    "print('Sobol_option',statistics.variance(S))\n",
    "print('Faure_option',statistics.variance(F))\n",
    "print('MC_option',statistics.variance(M))"
   ]
  },
  {
   "cell_type": "markdown",
   "id": "compound-advancement",
   "metadata": {},
   "source": [
    "------\n",
    "# 7\n",
    "##  Using Halton, Sobol, or Faure sequences, in conjunction with random work construction, Brownian bridge construction and PCA construction of Brownian motion, for option pricing"
   ]
  },
  {
   "cell_type": "markdown",
   "id": "collectible-interference",
   "metadata": {},
   "source": [
    "以下分别创建RW、BB、PCA，并把 Halton、Sobol、Faure融入函数内"
   ]
  },
  {
   "cell_type": "code",
   "execution_count": 297,
   "id": "cubic-complex",
   "metadata": {
    "scrolled": true
   },
   "outputs": [],
   "source": [
    "from sklearn.decomposition import pca"
   ]
  },
  {
   "cell_type": "code",
   "execution_count": 277,
   "id": "regulated-machine",
   "metadata": {},
   "outputs": [],
   "source": [
    "#RW\n",
    "def RW(n, d, total_T, method):\n",
    "    BM = np.zeros(n*d).reshape(n, d) \n",
    "    for i in range(n):\n",
    "        if (method == 'halton'):\n",
    "            Halton = tfp.mcmc.sample_halton_sequence(d,num_results=n,seed=127)\n",
    "            P = Halton.numpy()\n",
    "        if (method == 'sobol'):\n",
    "            Sobol = tf.math.sobol_sample(d, n, skip=0, dtype=tf.dtypes.float32, name=None)\n",
    "            P = Sobol.numpy()\n",
    "        if (method == 'faure'):\n",
    "            sequence = ot.FaureSequence(d)\n",
    "            P = np.array(sequence.generate(n))\n",
    "\n",
    "        Z = norm.ppf(P)\n",
    "        dt = total_T/d\n",
    "        BM[i,:] = Z.sum(axis=0) * np.sqrt(dt)\n",
    "    return (BM)"
   ]
  },
  {
   "cell_type": "code",
   "execution_count": 290,
   "id": "completed-meditation",
   "metadata": {},
   "outputs": [],
   "source": [
    "#BB\n",
    "def BB(n, d, total_T, method):\n",
    "    m =np.floor(np.log(d)/np.log(2))\n",
    "    BM = np.zeros(n*(d+1)).reshape(n, d+1)\n",
    "    t = [i/(d+1) for i in range(total_T)]\n",
    "    for i in range(n):\n",
    "        if (method == 'halton'):\n",
    "            Halton = tfp.mcmc.sample_halton_sequence(d,num_results=n,seed=127)\n",
    "            P = Halton.numpy()\n",
    "        if (method == 'sobol'):\n",
    "            Sobol = tf.math.sobol_sample(d, n, skip=0, dtype=tf.dtypes.float32, name=None)\n",
    "            P = Sobol.numpy()\n",
    "        if (method == 'faure'):\n",
    "            sequence = ot.FaureSequence(d)\n",
    "            P = np.array(sequence.generate(n))\n",
    "\n",
    "        Z = norm.ppf(P)\n",
    "        j=1\n",
    "        BM[i,int(2**m)] = np.sqrt(t[int(2**m)])*Z[i, j]\n",
    "        delta = 2**m \n",
    "        p_max = 1\n",
    "        for k in range(m):\n",
    "            s_min = delta/2 \n",
    "            s = s_min\n",
    "            l=0\n",
    "            r = delta\n",
    "            for p in range(p_max):\n",
    "                j=j+1\n",
    "                a = ((t[r+1]-t[s+1])*BM[i,l+1] + (t[s+1]-t[l+1])*BM[i,r+1])/(t[r+1]-t[l+1])\n",
    "                b = sqrt((t[s+1]-t[l+1]) * (t[r+1]-t[s+1]) / (t[r+1] - t[l+1])) \n",
    "                BM[i, s+1] = a + b * Z[i,j]\n",
    "                s = s + delta \n",
    "                l = l + delta \n",
    "                r = r + delta\n",
    "\n",
    "            p_max = 2 * p_max \n",
    "            delta = s_min\n",
    "\n",
    "        if (d > 2**m):\n",
    "            for k in range((2**m+1),d,1):\n",
    "                j=j+1\n",
    "                BM[i,k+1] = sqrt(t[k+1] - t[k]) * Z[i, j]\n",
    "    return(BM)"
   ]
  },
  {
   "cell_type": "code",
   "execution_count": 302,
   "id": "compact-committee",
   "metadata": {},
   "outputs": [],
   "source": [
    "#PCA\n",
    "def PCA(n, d, total_T, method):\n",
    "    BM = np.zeros(n*d).reshape(n, d) \n",
    "    dt = total_T/d\n",
    "    C = np.zeros(d*d).reshape(d, d) \n",
    "    for i in range(d):\n",
    "        if (method == 'halton'):\n",
    "            Halton = tfp.mcmc.sample_halton_sequence(d,num_results=n,seed=127)\n",
    "            P = Halton.numpy()\n",
    "        if (method == 'sobol'):\n",
    "            Sobol = tf.math.sobol_sample(d, n, skip=0, dtype=tf.dtypes.float32, name=None)\n",
    "            P = Sobol.numpy()\n",
    "        if (method == 'faure'):\n",
    "            sequence = ot.FaureSequence(d)\n",
    "            P = np.array(sequence.generate(n))      \n",
    "        Z = norm.ppf(P)\n",
    "        for j in range(d):\n",
    "                C[i, j] = min(i,j) * dt\n",
    "\n",
    "    cpca = pca.score(C, y=None)            \n",
    "    for k in range(n):\n",
    "         BM[k,:] = np.dot(cpca,np.array(Z[k,]).reshape( d, 1))\n",
    "    return(BM)"
   ]
  },
  {
   "cell_type": "markdown",
   "id": "invalid-correlation",
   "metadata": {},
   "source": [
    "使用方式如下，不同的路径和方法以此类推："
   ]
  },
  {
   "cell_type": "code",
   "execution_count": 278,
   "id": "asian-nurse",
   "metadata": {
    "scrolled": true
   },
   "outputs": [
    {
     "data": {
      "text/plain": [
       "array([[-1.48826058, -2.20629799,  0.01321616],\n",
       "       [ 0.31973544,  0.42830123,  1.26648916],\n",
       "       [ 0.16986964,  0.59755812,  0.78399475],\n",
       "       [ 0.91223935,  0.09704928, -0.60806908],\n",
       "       [-0.45806392,  0.85682255,  0.31984927]])"
      ]
     },
     "execution_count": 278,
     "metadata": {},
     "output_type": "execute_result"
    }
   ],
   "source": [
    "RW(5,3,1,'halton')"
   ]
  },
  {
   "cell_type": "markdown",
   "id": "determined-electron",
   "metadata": {},
   "source": [
    "------\n",
    "# 8\n",
    "## Using good lattice rules (say, Korobov lattice rules), in conjunction with BB or PCA, for option pricing"
   ]
  },
  {
   "cell_type": "code",
   "execution_count": 68,
   "id": "further-method",
   "metadata": {},
   "outputs": [],
   "source": [
    "#使用BB\n",
    "def korobov_BB(n, d, generator, total_T):\n",
    "    P = korobov(n, d, generator)\n",
    "    Z = norm.ppf(P)\n",
    "    m =np.floor(np.log(d)/np.log(2))\n",
    "    BM = np.zeros(n*(d+1)).reshape(n, d+1)\n",
    "    t = [i/d for i in range(total_T)]\n",
    "    t = t[1:]\n",
    "    for i in range(n):\n",
    "        j=1\n",
    "        BM[i,2**m+1] = np.sqrt(t[2**m + 1])*Z[i, j] \n",
    "        delta = 2**m\n",
    "        p_max = 1\n",
    "        for k in range(m):\n",
    "            s_min = delta/2 \n",
    "            s = s_min\n",
    "            l=0\n",
    "            r = delta\n",
    "            for p in range(p_max):\n",
    "                j=j+1\n",
    "                a = ((t[r+1]-t[s+1])*BM[i,l+1] + (t[s+1]-t[l+1])*BM[i,r+1])/(t[r+1]-t[l+1])\n",
    "                b = np.sqrt((t[s+1]-t[l+1]) * (t[r+1]-t[s+1]) / (t[r+1] - t[l+1])) \n",
    "                BM[i, s+1] = a + b * Z[i,j]\n",
    "                s = s + delta\n",
    "                l = l + delta\n",
    "                r = r + delta\n",
    "\n",
    "            p_max = 2 * p_max \n",
    "            delta = s_min\n",
    "        if (d > 2**m):\n",
    "            for k in range(2**(m+1),d,1):\n",
    "                j=j+1\n",
    "                BM[i,k+1] = sqrt(t[k+1] - t[k]) * Z[i, j]\n",
    "    return(BM)"
   ]
  },
  {
   "cell_type": "code",
   "execution_count": 63,
   "id": "prepared-dealer",
   "metadata": {},
   "outputs": [],
   "source": [
    "#使用PCA\n",
    "def korobov_PCA(n, d, generator, total_T):\n",
    "    P = korobov(n, d, generator)\n",
    "    Z = norm.ppf(P)\n",
    "    BM = np.zeros(n*d).reshape(n, d)\n",
    "    dt = total_T/d\n",
    "    C = np.zeros(d*d).reshape(d, d) \n",
    "    for i in range(d):\n",
    "        for j in range(d):\n",
    "            C[i, j] = min(i,j) * dt\n",
    "    pca = pca.score(C, y=None)\n",
    "    for k in range(n) :\n",
    "        BM[k,:] =  np.dot(pca,np.array(Z[k,]).reshape( d, 1))\n",
    "    return(BM)"
   ]
  }
 ],
 "metadata": {
  "kernelspec": {
   "display_name": "Python 3",
   "language": "python",
   "name": "python3"
  },
  "language_info": {
   "codemirror_mode": {
    "name": "ipython",
    "version": 3
   },
   "file_extension": ".py",
   "mimetype": "text/x-python",
   "name": "python",
   "nbconvert_exporter": "python",
   "pygments_lexer": "ipython3",
   "version": "3.8.3"
  }
 },
 "nbformat": 4,
 "nbformat_minor": 5
}
